{
 "cells": [
  {
   "cell_type": "markdown",
   "id": "6d14f8e1",
   "metadata": {},
   "source": [
    "Instalacion de dependencias"
   ]
  },
  {
   "cell_type": "code",
   "execution_count": 28,
   "id": "2570ef0f",
   "metadata": {
    "vscode": {
     "languageId": "powershell"
    }
   },
   "outputs": [
    {
     "name": "stdout",
     "output_type": "stream",
     "text": [
      "Requirement already satisfied: pandas in c:\\users\\hozuk\\appdata\\local\\programs\\python\\python311\\lib\\site-packages (2.2.3)\n",
      "Requirement already satisfied: matplotlib in c:\\users\\hozuk\\appdata\\local\\programs\\python\\python311\\lib\\site-packages (3.10.1)\n",
      "Requirement already satisfied: seaborn in c:\\users\\hozuk\\appdata\\local\\programs\\python\\python311\\lib\\site-packages (0.13.2)\n",
      "Requirement already satisfied: scikit-learn in c:\\users\\hozuk\\appdata\\local\\programs\\python\\python311\\lib\\site-packages (1.6.1)\n",
      "Requirement already satisfied: openpyxl in c:\\users\\hozuk\\appdata\\local\\programs\\python\\python311\\lib\\site-packages (3.1.5)\n",
      "Requirement already satisfied: graphviz in c:\\users\\hozuk\\appdata\\local\\programs\\python\\python311\\lib\\site-packages (0.21)\n",
      "Requirement already satisfied: numpy>=1.23.2 in c:\\users\\hozuk\\appdata\\local\\programs\\python\\python311\\lib\\site-packages (from pandas) (1.26.4)\n",
      "Requirement already satisfied: python-dateutil>=2.8.2 in c:\\users\\hozuk\\appdata\\local\\programs\\python\\python311\\lib\\site-packages (from pandas) (2.9.0.post0)\n",
      "Requirement already satisfied: pytz>=2020.1 in c:\\users\\hozuk\\appdata\\local\\programs\\python\\python311\\lib\\site-packages (from pandas) (2024.2)\n",
      "Requirement already satisfied: tzdata>=2022.7 in c:\\users\\hozuk\\appdata\\local\\programs\\python\\python311\\lib\\site-packages (from pandas) (2024.2)\n",
      "Requirement already satisfied: contourpy>=1.0.1 in c:\\users\\hozuk\\appdata\\local\\programs\\python\\python311\\lib\\site-packages (from matplotlib) (1.3.2)\n",
      "Requirement already satisfied: cycler>=0.10 in c:\\users\\hozuk\\appdata\\local\\programs\\python\\python311\\lib\\site-packages (from matplotlib) (0.12.1)\n",
      "Requirement already satisfied: fonttools>=4.22.0 in c:\\users\\hozuk\\appdata\\local\\programs\\python\\python311\\lib\\site-packages (from matplotlib) (4.57.0)\n",
      "Requirement already satisfied: kiwisolver>=1.3.1 in c:\\users\\hozuk\\appdata\\local\\programs\\python\\python311\\lib\\site-packages (from matplotlib) (1.4.5)\n",
      "Requirement already satisfied: packaging>=20.0 in c:\\users\\hozuk\\appdata\\local\\programs\\python\\python311\\lib\\site-packages (from matplotlib) (24.0)\n",
      "Requirement already satisfied: pillow>=8 in c:\\users\\hozuk\\appdata\\local\\programs\\python\\python311\\lib\\site-packages (from matplotlib) (11.2.1)\n",
      "Requirement already satisfied: pyparsing>=2.3.1 in c:\\users\\hozuk\\appdata\\local\\programs\\python\\python311\\lib\\site-packages (from matplotlib) (3.2.3)\n",
      "Requirement already satisfied: scipy>=1.6.0 in c:\\users\\hozuk\\appdata\\local\\programs\\python\\python311\\lib\\site-packages (from scikit-learn) (1.13.0)\n",
      "Requirement already satisfied: joblib>=1.2.0 in c:\\users\\hozuk\\appdata\\local\\programs\\python\\python311\\lib\\site-packages (from scikit-learn) (1.4.2)\n",
      "Requirement already satisfied: threadpoolctl>=3.1.0 in c:\\users\\hozuk\\appdata\\local\\programs\\python\\python311\\lib\\site-packages (from scikit-learn) (3.5.0)\n",
      "Requirement already satisfied: et-xmlfile in c:\\users\\hozuk\\appdata\\local\\programs\\python\\python311\\lib\\site-packages (from openpyxl) (2.0.0)\n",
      "Requirement already satisfied: six>=1.5 in c:\\users\\hozuk\\appdata\\local\\programs\\python\\python311\\lib\\site-packages (from python-dateutil>=2.8.2->pandas) (1.16.0)\n",
      "Note: you may need to restart the kernel to use updated packages.\n"
     ]
    }
   ],
   "source": [
    "pip install pandas matplotlib seaborn scikit-learn openpyxl graphviz"
   ]
  },
  {
   "cell_type": "code",
   "execution_count": null,
   "id": "e807eac2",
   "metadata": {},
   "outputs": [],
   "source": [
    "import pandas as pd\n",
    "import matplotlib.pyplot as plt\n",
    "import seaborn as sns\n",
    "import openpyxl"
   ]
  },
  {
   "cell_type": "code",
   "execution_count": 20,
   "id": "84b9595a",
   "metadata": {},
   "outputs": [
    {
     "name": "stdout",
     "output_type": "stream",
     "text": [
      "11  Name  X1 X2   X3 X4    X5     X6    X7 Masa Agua Tasa de evaporación\n",
      "0      1  80  3  200  8  4.26  0.052  6.54   189.814                 NaN\n",
      "1      2  60  2  150  8  4.33   0.04  6.54   102.816                 NaN\n",
      "2      3  60  1  200  8  4.33  0.052  6.54    78.214                 NaN\n",
      "3      4  70  2  200  8  4.28  0.052  6.54   177.115                 NaN\n",
      "4      5  70  1  250  8  4.28  0.076  6.54   158.054                 NaN\n",
      "..   ...  .. ..  ... ..   ...    ...   ...       ...                 ...\n",
      "107  108  85  2  275  8  4.25  0.082  6.54   216.333                 NaN\n",
      "108  109  65  2  275  8   4.3  0.082  6.54   170.492                 NaN\n",
      "109  110  75  1  175  8  4.27  0.046  6.54   186.669                 NaN\n",
      "110  111  65  3  225  8   4.3  0.064  6.54   175.175                 NaN\n",
      "111  112  65  2  225  6   4.3  0.064  6.56   177.439                 NaN\n",
      "\n",
      "[112 rows x 10 columns]\n"
     ]
    }
   ],
   "source": [
    "file = 'Pruebas experimentales del rotavapor RCL.xlsx'\n",
    "sheet = 'Datos'\n",
    "\n",
    "try:\n",
    "    df = pd.read_excel(file, sheet_name=sheet)\n",
    "except FileNotFoundError:\n",
    "    print(f\"Error: The file '{file}' was not found.\")\n",
    "    exit()\n",
    "except Exception as e:\n",
    "    print(f\"An error occurred while reading the file: {e}\")\n",
    "    exit()\n",
    "\n",
    "tabla = df.iloc[12:, 1:]\n",
    "tabla.columns = df.iloc[11, 1:]\n",
    "tabla.reset_index(drop=True, inplace=True)\n",
    "\n",
    "print(tabla)"
   ]
  },
  {
   "cell_type": "code",
   "execution_count": null,
   "id": "e49584a2",
   "metadata": {},
   "outputs": [],
   "source": [
    "targets = [\"\"]\n",
    "features = [\"\"]"
   ]
  },
  {
   "cell_type": "markdown",
   "id": "ae914e81",
   "metadata": {},
   "source": [
    "# Arbol de decision"
   ]
  },
  {
   "cell_type": "code",
   "execution_count": 23,
   "id": "ee8dd6f6",
   "metadata": {},
   "outputs": [],
   "source": [
    "import numpy as np\n",
    "from sklearn.model_selection import cross_val_score\n",
    "from sklearn.tree import DecisionTreeClassifier\n",
    "\n",
    "def decisionTreeF(data):\n",
    "    X = data[features]\n",
    "    y = data[target]\n",
    "\n",
    "    decisionTree = DecisionTreeClassifier(random_state=42)\n",
    "    decisionTree.fit(X, y)\n",
    "\n",
    "    # Metrica de AUC-ROC\n",
    "    auc_scores = cross_val_score(decisionTree, X, y, cv=5, scoring='roc_auc')\n",
    "    print(\"AUC-ROC en validación cruzada:\", auc_scores)\n",
    "    print(\"Promedio AUC-ROC:\", np.mean(auc_scores))\n",
    "\n",
    "    # Metrica de f1-score\n",
    "    f1_scores = cross_val_score(decisionTree, X, y, cv=5, scoring='f1')\n",
    "    print(\"f1-score en validación cruzada:\", f1_scores)\n",
    "    print(\"Promedio f1-score:\", np.mean(f1_scores))\n",
    "\n",
    "    # Metrica de precisión\n",
    "    precision_scores = cross_val_score(decisionTree, X, y, cv=5, scoring='precision')\n",
    "    print(\"Precisión en validación cruzada:\", precision_scores)\n",
    "    print(\"Promedio Precisión:\", np.mean(precision_scores))\n",
    "\n",
    "    "
   ]
  },
  {
   "cell_type": "code",
   "execution_count": 26,
   "id": "0831b6d4",
   "metadata": {},
   "outputs": [],
   "source": [
    "import graphviz\n",
    "from sklearn.tree import export_graphviz\n",
    "\n",
    "def dibujar_arbol(data, name, deep):\n",
    "    X = data[features]\n",
    "    y = data[target]\n",
    "\n",
    "    decisionTree = DecisionTreeClassifier(random_state=42, max_depth=deep)\n",
    "    decisionTree.fit(X, y)\n",
    "\n",
    "    # Metrica de AUC-ROC\n",
    "    auc_scores = cross_val_score(decisionTree, X, y, cv=5, scoring='roc_auc')\n",
    "    print(\"AUC-ROC en validación cruzada:\", auc_scores)\n",
    "    print(\"Promedio AUC-ROC:\", np.mean(auc_scores))\n",
    "\n",
    "    # Metrica de f1-score\n",
    "    f1_scores = cross_val_score(decisionTree, X, y, cv=5, scoring='f1')\n",
    "    print(\"f1-score en validación cruzada:\", f1_scores)\n",
    "    print(\"Promedio f1-score:\", np.mean(f1_scores))\n",
    "\n",
    "    # Metrica de precisión\n",
    "    precision_scores = cross_val_score(decisionTree, X, y, cv=5, scoring='precision')\n",
    "    print(\"Precisión en validación cruzada:\", precision_scores)\n",
    "    print(\"Promedio Precisión:\", np.mean(precision_scores))\n",
    "\n",
    "\n",
    "    export_graphviz(decisionTree, out_file=f\"{name}_tree.dot\", feature_names=features, class_names=[\"No Lluvia\", \"Lluvia\"], filled=True)"
   ]
  },
  {
   "cell_type": "markdown",
   "id": "5f93ec27",
   "metadata": {},
   "source": [
    "# Random Forest"
   ]
  },
  {
   "cell_type": "code",
   "execution_count": 27,
   "id": "2ccfa148",
   "metadata": {},
   "outputs": [],
   "source": [
    "import pandas as pd\n",
    "import matplotlib.pyplot as plt\n",
    "from sklearn.model_selection import train_test_split\n",
    "from sklearn.ensemble import RandomForestClassifier\n",
    "from sklearn.metrics import confusion_matrix, classification_report, roc_auc_score, roc_curve\n",
    "\n",
    "def randomForest(data):\n",
    "    X = data[features]\n",
    "    y = data[target]\n",
    "\n",
    "    X_train, X_test, y_train, y_test = train_test_split(X, y, test_size=0.3, random_state=42, stratify=y)\n",
    "\n",
    "    rf = RandomForestClassifier(n_estimators=100, random_state=42, class_weight='balanced')\n",
    "    rf.fit(X_train, y_train)\n",
    "\n",
    "    y_pred = rf.predict(X_test)\n",
    "    print(\"Matriz de Confusión:\")\n",
    "    print(confusion_matrix(y_test, y_pred))\n",
    "    print(\"\\nReporte de Clasificación:\")\n",
    "    print(classification_report(y_test, y_pred))\n",
    "    auc = roc_auc_score(y_test, rf.predict_proba(X_test)[:,1])\n",
    "    print(\"AUC-ROC:\", auc)\n",
    "\n",
    "    # Visualizar la Curva ROC\n",
    "    fpr, tpr = roc_curve(y_test, rf.predict_proba(X_test)[:,1])\n",
    "    plt.figure(figsize=(8,6))\n",
    "    plt.plot(fpr, tpr, label=f'ROC curve (AUC = {auc:.2f})')\n",
    "    plt.plot([0, 1], [0, 1], 'k--')\n",
    "    plt.xlabel(\"Tasa de Falsos Positivos\")\n",
    "    plt.ylabel(\"Tasa de Verdaderos Positivos\")\n",
    "    plt.title(\"Curva ROC - Random Forest\")\n",
    "    plt.legend(loc=\"lower right\")\n",
    "    plt.grid(True, linestyle=\"--\", alpha=0.6)\n",
    "    plt.show()\n",
    "\n",
    "    # Evaluar importancia de las variables\n",
    "    importances = rf.feature_importances_\n",
    "    feature_importance = pd.DataFrame({'Feature': features, 'Importance': importances}).sort_values(by='Importance', ascending=False)\n",
    "    print(\"Importancia de Variables:\")\n",
    "    print(feature_importance)\n",
    "\n",
    "    # Graficar importancia de las variables\n",
    "    plt.figure(figsize=(8,6))\n",
    "    plt.barh(feature_importance['Feature'], feature_importance['Importance'], color='skyblue')\n",
    "    plt.xlabel('Importancia')\n",
    "    plt.title('Importancia de Variables en el Modelo Random Forest')\n",
    "    plt.gca().invert_yaxis()\n",
    "    plt.show()"
   ]
  }
 ],
 "metadata": {
  "kernelspec": {
   "display_name": "Python 3",
   "language": "python",
   "name": "python3"
  },
  "language_info": {
   "codemirror_mode": {
    "name": "ipython",
    "version": 3
   },
   "file_extension": ".py",
   "mimetype": "text/x-python",
   "name": "python",
   "nbconvert_exporter": "python",
   "pygments_lexer": "ipython3",
   "version": "3.11.9"
  }
 },
 "nbformat": 4,
 "nbformat_minor": 5
}
